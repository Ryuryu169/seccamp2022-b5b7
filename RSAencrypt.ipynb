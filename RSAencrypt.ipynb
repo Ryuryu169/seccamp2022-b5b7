{
  "nbformat": 4,
  "nbformat_minor": 0,
  "metadata": {
    "colab": {
      "provenance": [],
      "authorship_tag": "ABX9TyO22W7/FLGSNxhIAzxvdAP/",
      "include_colab_link": true
    },
    "kernelspec": {
      "name": "python3",
      "display_name": "Python 3"
    },
    "language_info": {
      "name": "python"
    }
  },
  "cells": [
    {
      "cell_type": "markdown",
      "metadata": {
        "id": "view-in-github",
        "colab_type": "text"
      },
      "source": [
        "<a href=\"https://colab.research.google.com/github/Ryuryu169/seccamp2022-b5b7/blob/main/RSAencrypt.ipynb\" target=\"_parent\"><img src=\"https://colab.research.google.com/assets/colab-badge.svg\" alt=\"Open In Colab\"/></a>"
      ]
    },
    {
      "cell_type": "code",
      "execution_count": 84,
      "metadata": {
        "colab": {
          "base_uri": "https://localhost:8080/"
        },
        "id": "gUct-f1WhdLo",
        "outputId": "d183ad92-d644-409e-ccc8-6e22f90ec84e"
      },
      "outputs": [
        {
          "output_type": "stream",
          "name": "stdout",
          "text": [
            "1151\n",
            "2161\n",
            "200\n"
          ]
        }
      ],
      "source": [
        "import random\n",
        "\n",
        "p=int(input())\n",
        "q=int(input())\n",
        "\n",
        "num = p*q #n\n",
        "less = (p-1)*(q-1)\n",
        "encryptKey = 0 #e\n",
        "decryptKey = 0 #d\n",
        "\n",
        "\n",
        "def checkGCM(i,j):\n",
        "  remain = i % j\n",
        "  while remain != 0:\n",
        "    i = remain\n",
        "    remain = j % i\n",
        "    j = i\n",
        "\n",
        "  return j\n",
        "\n",
        "def chooseD():\n",
        "  remain = 0\n",
        "  while remain != 1:\n",
        "    key = random.randint(1,less)\n",
        "    remain = checkGCM(less,key)\n",
        "  return key\n",
        "\n",
        "def extgcd(a, b):\n",
        "    if b:\n",
        "        d, y, x = extgcd(b, a % b)\n",
        "        y -= (a // b)*x\n",
        "        return d, x, y\n",
        "    return a, 1, 0\n",
        "\n",
        "def remainOne():\n",
        "  global openKey\n",
        "  openKey = chooseD()\n",
        "  key, a, b = extgcd(less,openKey)\n",
        "  if b < 0:\n",
        "    b += less\n",
        "  return b #d\n",
        "\n",
        "def encrypt(msg):\n",
        "  global decryptKey\n",
        "  decryptKey = remainOne()\n",
        "  encrypt = (msg ** openKey) % num\n",
        "  return encrypt\n",
        "\n",
        "def decrypt(encrypt):\n",
        "  plainMessage = (encrypt ** decryptKey) % num\n",
        "  return plainMessage\n",
        "\n",
        "cypher = encrypt(200)\n",
        "msg = decrypt(cypher)\n",
        "print(msg)"
      ]
    }
  ]
}